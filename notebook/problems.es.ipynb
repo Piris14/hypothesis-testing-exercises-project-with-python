{
 "cells": [
  {
   "cell_type": "markdown",
   "id": "d9d036c6",
   "metadata": {},
   "source": [
    "# Problemas de prueba de hipótesis"
   ]
  },
  {
   "cell_type": "markdown",
   "id": "d157c4db",
   "metadata": {},
   "source": [
    "## Ejercicio 1\n",
    "\n",
    "Usted es un nutricionista que investiga dos tipos diferentes de dietas para ver si existe una diferencia significativa en la pérdida de peso después de un mes. Eliges dos grupos aleatorios de personas; un grupo sigue la primera dieta y el otro sigue la segunda. Al final del mes, se registra la pérdida de peso (en kg) de cada persona:\n",
    "\n",
    "| Diet 1 | Diet 2 |\n",
    "|:-------|:-------|\n",
    "| 2.0 | 3.0 |\n",
    "| 2.5 | 3.2 |\n",
    "| 3.0 | 3.1 |\n",
    "| 2.8 | 2.9 |\n",
    "| 2.3 | 2.8 |\n",
    "| 2.7 | 3.0 |\n",
    "| 2.5 | 3.2 |\n",
    "\n",
    "Con estos datos se busca responder a la siguiente pregunta: ¿Existe una diferencia significativa en la pérdida de peso promedio entre las personas que siguieron la primera dieta y las que siguieron la segunda dieta?\n",
    "\n",
    "Para sacar conclusiones, siga los siguientes puntos:\n",
    "\n",
    "-Enunciar la hipótesis: hipótesis nula y alternativa.\n",
    "-Realizar la prueba para comprobar la hipótesis. Puede utilizar la prueba t de Student.\n",
    "-Analizar las conclusiones."
   ]
  },
  {
   "cell_type": "code",
   "execution_count": 2,
   "id": "8e0f3cf0",
   "metadata": {},
   "outputs": [
    {
     "name": "stdout",
     "output_type": "stream",
     "text": [
      "Valor de T: -3.5383407969933938\n",
      "Valor de P:0.0041\n"
     ]
    }
   ],
   "source": [
    "# TODO\n",
    "import numpy as np\n",
    "import scipy.stats as stats\n",
    "\n",
    "diet_1 = [2.0, 2.5, 3.0, 2.8, 2.3, 2.7, 2.5]\n",
    "diet_2 = [3.0, 3.2, 3.1, 2.9, 2.8, 3.0, 3.2]\n",
    "\n",
    "t_value, p_value = stats.ttest_ind(diet_1, diet_2)\n",
    "\n",
    "print(f'Valor de T: {t_value}')\n",
    "print(f'Valor de P:{p_value:.4f}')\n",
    "\n",
    "      \n"
   ]
  },
  {
   "cell_type": "markdown",
   "id": "c5f8647f",
   "metadata": {},
   "source": [
    "CONCLUSIÓN: Siendo la hipótesis nula que no hay diferencia entre las dos dietas se concluye debido a que el valor de p es menor de 0,05 que se rechaza dicha hipótesis y se acepta la hipótesis alternativa, es decir, que las dos dietas tienen efectos diferentes. "
   ]
  },
  {
   "cell_type": "markdown",
   "id": "f432e18e",
   "metadata": {},
   "source": [
    "## ANOVA\n",
    "\n",
    "**ANOVA** (*Analysis of Variance - Análisis de variación*) Es una técnica estadística utilizada para comparar las medidas de dos o más grupos. La idea detrás de ANOVA es descomponer la variabilidad total de los datos en dos componentes: variabilidad entre grupos y variabilidad dentro de los grupos:\n",
    "\n",
    "- **Variabilidad entre grupos**: Esta variabilidad se refiere a las diferencias entre las medias del grupo. Si esta variabilidad es considerablemente mayor que la variabilidad dentro del grupo, podría ser una indicación de que al menos una de las medias del grupo es diferente.\n",
    "- **Variabilidad dentro del grupo**: Esta variabilidad se refiere a la dispersión de los datos dentro de cada grupo. Si todos los grupos tienen una variabilidad similar, entonces cualquier diferencia notable en las medias de los grupos podría considerarse significativa.\n",
    "\n",
    "Las hipótesis en ANOVA suelen incluir:\n",
    "\n",
    "- **Hipótesis nula** ($H₀$): Las medias de todos los grupos son iguales.\n",
    "- **Hipótesis alternativa** ($H₁$): Al menos una de las medias del grupo es diferente.\n",
    "\n",
    "Si el resultado de la prueba ANOVA es significativo (por ejemplo, un valor p inferior a un umbral como 0,05), esto sugiere que al menos la media de un grupo es diferente."
   ]
  },
  {
   "cell_type": "markdown",
   "id": "fc5f3721",
   "metadata": {},
   "source": [
    "## Ejercicio 2\n",
    "\n",
    "Un agricultor decide probar tres tipos diferentes de fertilizantes para determinar si alguno es superior en términos de producción de maíz. El agricultor planta maíz en 15 parcelas idénticas y utiliza los tres fertilizantes (5 parcelas para cada tipo). Al final de la temporada mide el rendimiento de maíz (en kg) de cada parcela, con el siguiente resultado:\n",
    "\n",
    "| Fertilizante 1 | Fertilizante 2 | Fertilizante 3 |\n",
    "|:-------------|:-------------|:-------------|\n",
    "| 20 | 22 | 24 |\n",
    "| 21 | 21 | 23 |\n",
    "| 20 | 23 | 22 |\n",
    "| 19 | 22 | 23 |\n",
    "| 20 | 21 | 24 |\n",
    "\n",
    "Con estos datos busca responder la siguiente pregunta: ¿Existe una diferencia significativa en el rendimiento promedio del maíz entre los tres tipos de fertilizantes?\n",
    "\n",
    "Para ayudarte, sigue los siguientes puntos:\n",
    "\n",
    "-Enunciar la hipótesis: hipótesis nula y alternativa.\n",
    "-Realizar la prueba ANOVA.\n",
    "-Analizar las conclusiones.\n",
    "-Si un fertilizante es mejor que otro, ¿cómo podemos saberlo?"
   ]
  },
  {
   "cell_type": "code",
   "execution_count": 4,
   "id": "eecad0ca",
   "metadata": {},
   "outputs": [
    {
     "name": "stdout",
     "output_type": "stream",
     "text": [
      "Estadístico F: 20.315789473684188\n",
      "Valor de P: 0.00014047824793190472\n"
     ]
    }
   ],
   "source": [
    "# TODO\n",
    "Fertilizante_1 = [20, 21, 20, 19, 20]\n",
    "Fertilizante_2 = [22, 21, 23, 22, 21]\n",
    "Fertilizante_3 = [24, 23, 22, 23, 24]\n",
    "\n",
    "f_statistic, p_value = stats.f_oneway(Fertilizante_1, Fertilizante_2, Fertilizante_3)\n",
    "\n",
    "print(f'Estadístico F: {f_statistic}')\n",
    "print(f'Valor de P: {p_value}')"
   ]
  },
  {
   "cell_type": "markdown",
   "id": "62bbe037",
   "metadata": {},
   "source": [
    "CONCLUSIÓN: Al ser el valor de P menos que 0,05 aceptamos la hipótesis alternativa que dice que si que hay un fertilizante que sería superior entérminos de producción del maíz. A su vez, el número F al ser tan alto nos dice que hay una diferencia notable entre los tipos de fertilizantes."
   ]
  },
  {
   "cell_type": "code",
   "execution_count": 7,
   "id": "c412ce96",
   "metadata": {},
   "outputs": [
    {
     "name": "stdout",
     "output_type": "stream",
     "text": [
      "Media del fertilizante 1: 20.0\n",
      "Media del fertilizante 2: 21.8\n",
      "Media del fertilizante 3: 23.2\n",
      "Tukey's HSD Pairwise Group Comparisons (95.0% Confidence Interval)\n",
      "Comparison  Statistic  p-value  Lower CI  Upper CI\n",
      " (0 - 1)     -1.800     0.010    -3.143    -0.457\n",
      " (0 - 2)     -3.200     0.000    -4.543    -1.857\n",
      " (1 - 0)      1.800     0.010     0.457     3.143\n",
      " (1 - 2)     -1.400     0.041    -2.743    -0.057\n",
      " (2 - 0)      3.200     0.000     1.857     4.543\n",
      " (2 - 1)      1.400     0.041     0.057     2.743\n",
      "\n"
     ]
    }
   ],
   "source": [
    "media_fer_1 = np.mean(Fertilizante_1)\n",
    "media_fer_2 = np.mean(Fertilizante_2)\n",
    "media_fer_3 = np.mean(Fertilizante_3)\n",
    "\n",
    "print(f'Media del fertilizante 1: {media_fer_1}')\n",
    "print(f'Media del fertilizante 2: {media_fer_2}')\n",
    "print(f'Media del fertilizante 3: {media_fer_3}')\n",
    "\n",
    "resultados = stats.tukey_hsd(Fertilizante_1, Fertilizante_2, Fertilizante_3)\n",
    "\n",
    "print(resultados)"
   ]
  },
  {
   "cell_type": "markdown",
   "id": "8dea80d9",
   "metadata": {},
   "source": [
    "CONCLUSIÓN: El mejor fertilizante sería el tercero ya que tiene la media mas alta de los 3 y cuando los comparamos este es mejor que el primero con una diferencia de 3.2 puntos y mejor que el segundo con una diferencia de 1.4 puntos. Le seguiría el fertilizante 2, que es mejor que el primero con una diferencia de 1.8 puntos y tiene la segunda media mas alta."
   ]
  }
 ],
 "metadata": {
  "kernelspec": {
   "display_name": "Python 3",
   "language": "python",
   "name": "python3"
  },
  "language_info": {
   "codemirror_mode": {
    "name": "ipython",
    "version": 3
   },
   "file_extension": ".py",
   "mimetype": "text/x-python",
   "name": "python",
   "nbconvert_exporter": "python",
   "pygments_lexer": "ipython3",
   "version": "3.11.4"
  }
 },
 "nbformat": 4,
 "nbformat_minor": 5
}
